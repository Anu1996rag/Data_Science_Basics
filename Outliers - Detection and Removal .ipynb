{
 "cells": [
  {
   "cell_type": "code",
   "execution_count": 1,
   "metadata": {},
   "outputs": [],
   "source": [
    "import numpy as np\n",
    "import pandas as pd"
   ]
  },
  {
   "cell_type": "code",
   "execution_count": 5,
   "metadata": {},
   "outputs": [
    {
     "name": "stdout",
     "output_type": "stream",
     "text": [
      "Mean = 50.049 and Std. Dev. = 4.994\n"
     ]
    }
   ],
   "source": [
    "## We will generate a population 10,000 random numbers \n",
    "# drawn from a Gaussian distribution with a mean of 50 and a standard deviation of 5.\n",
    "#We will use the randn() function to generate random Gaussian values \n",
    "#with a mean of 0 and a standard deviation of 1, \n",
    "#then multiply the results by our own standard deviation and add the mean to shift the values into the preferred range.\n",
    "\n",
    "##to seed the distribution data so that it will generate the same data each time it is run\n",
    "np.random.seed(1)\n",
    "\n",
    "data = 5*np.random.randn(10000)+50\n",
    "\n",
    "print(\"Mean = %.3f and Std. Dev. = %.3f\" %(np.mean(data),np.std(data)))"
   ]
  },
  {
   "cell_type": "markdown",
   "metadata": {},
   "source": [
    "### Detecting Outliers using Standard Deviation Method"
   ]
  },
  {
   "cell_type": "code",
   "execution_count": null,
   "metadata": {},
   "outputs": [],
   "source": [
    "#We can calculate the mean and standard deviation of a given sample, \n",
    "#then calculate the cut-off for identifying outliers as more than 3 standard deviations from the mean.\n",
    "\n",
    "#calculating summary of statistics\n",
    "data_mean , data_std_dev = np.mean(data),np.std(data)\n",
    "\n",
    "# setting cut off or threshold \n",
    "cut_off = data_std_dev * 3\n",
    "\n",
    "lower , upper = data_mean - cut_off , data_mean + cut_off"
   ]
  },
  {
   "cell_type": "code",
   "execution_count": 13,
   "metadata": {},
   "outputs": [
    {
     "name": "stdout",
     "output_type": "stream",
     "text": [
      "Total outliers detected : 29\n"
     ]
    }
   ],
   "source": [
    "## we can now identify the outliers by simply checking for the values that does not fit in the decided range above\n",
    "outliers = [x for x in data if x < lower or x > upper]\n",
    "print(\"Total outliers detected :\",len(outliers))"
   ]
  },
  {
   "cell_type": "code",
   "execution_count": 15,
   "metadata": {},
   "outputs": [
    {
     "name": "stdout",
     "output_type": "stream",
     "text": [
      "Total number of observations after removing outliers: 9971\n"
     ]
    }
   ],
   "source": [
    "## We can also remove the outliers by using the same method \n",
    "# i.e. taking values which falls under the threshold or cut off\n",
    "\n",
    "outliers_removed = [x for x in data if x > lower and x < upper]\n",
    "print(\"Total number of observations after removing outliers:\", len(outliers_removed))"
   ]
  },
  {
   "cell_type": "markdown",
   "metadata": {},
   "source": [
    "### Interquartile Range Method"
   ]
  },
  {
   "cell_type": "markdown",
   "metadata": {},
   "source": [
    "#### The IQR is calculated as the difference between the 75th and the 25th percentiles of the data and defines the box in a box and whisker plot."
   ]
  },
  {
   "cell_type": "code",
   "execution_count": 17,
   "metadata": {},
   "outputs": [],
   "source": [
    "# calculating the interquartile range\n",
    "q25,q75 = np.percentile(data,25),np.percentile(data,75)\n",
    "iqr  = q75-q25"
   ]
  },
  {
   "cell_type": "code",
   "execution_count": 18,
   "metadata": {},
   "outputs": [],
   "source": [
    "#calculating the threshold or outlier cutoff\n",
    "cut_off = iqr*1.5\n",
    "lower , upper = q25 - cut_off,q75 + cut_off"
   ]
  },
  {
   "cell_type": "code",
   "execution_count": 21,
   "metadata": {},
   "outputs": [
    {
     "name": "stdout",
     "output_type": "stream",
     "text": [
      "Percentiles 25th = 46.685 ,75th = 53.359, Interquartile range =6.674 \n",
      "Total outliers detected : 81\n",
      "Total number of observations after removing outliers: 9919\n"
     ]
    }
   ],
   "source": [
    "print(\"Percentiles 25th = %.3f ,75th = %.3f, Interquartile range = %.3f \"%(q25,q75,iqr))\n",
    "\n",
    "\n",
    "\n",
    "## we can now identify the outliers by simply checking for the values that does not fit in the decided range above\n",
    "outliers = [x for x in data if x < lower or x > upper]\n",
    "print(\"Total outliers detected :\",len(outliers))\n",
    "\n",
    "\n",
    "## We can also remove the outliers by using the same method \n",
    "# i.e. taking values which falls under the threshold or cut off\n",
    "\n",
    "outliers_removed = [x for x in data if x > lower and x < upper]\n",
    "print(\"Total number of observations after removing outliers:\", len(outliers_removed))"
   ]
  },
  {
   "cell_type": "markdown",
   "metadata": {},
   "source": [
    "### Automatic Outlier Detection"
   ]
  },
  {
   "cell_type": "markdown",
   "metadata": {},
   "source": [
    "##### In machine learning, an approach to tackling the problem of outlier detection is one-class classification.\n",
    "\n",
    "##### One-Class Classification, or OCC for short, involves fitting a model on the “normal” data and predicting whether new data is normal or an outlier/anomaly.\n",
    "\n",
    "##### The scikit-learn library provides an implementation of this approach in the LocalOutlierFactor class."
   ]
  },
  {
   "cell_type": "code",
   "execution_count": 22,
   "metadata": {},
   "outputs": [],
   "source": [
    "from sklearn.model_selection import train_test_split\n",
    "from sklearn.linear_model import LinearRegression\n",
    "from sklearn.neighbors import LocalOutlierFactor\n",
    "from sklearn.metrics import mean_absolute_error"
   ]
  },
  {
   "cell_type": "code",
   "execution_count": 26,
   "metadata": {},
   "outputs": [
    {
     "name": "stdout",
     "output_type": "stream",
     "text": [
      "Dimensions of X and y  (506, 13) (506,)\n",
      "Summarizing the shapes of the train and test datasets :\n",
      " (339, 13) (167, 13) (339,) (167,)\n"
     ]
    }
   ],
   "source": [
    "## loading in the dataset and splitting into training and testing \n",
    "url = 'https://raw.githubusercontent.com/jbrownlee/Datasets/master/housing.csv'\n",
    "df = pd.read_csv(url, header=None)\n",
    "\n",
    "#taking only the numeric values\n",
    "data = df.values\n",
    "\n",
    "X  = data[:,:-1]\n",
    "y = data[:,-1]\n",
    "\n",
    "print(\"Dimensions of X and y \",X.shape , y.shape)\n",
    "\n",
    "#splitting the data \n",
    "X_train, X_test, y_train, y_test = train_test_split(X, y, test_size=0.33, random_state=1)\n",
    "\n",
    "print(\"Summarizing the shapes of the train and test datasets :\\n\",X_train.shape,X_test.shape,y_train.shape,y_test.shape)\n",
    "\n"
   ]
  },
  {
   "cell_type": "code",
   "execution_count": 29,
   "metadata": {},
   "outputs": [
    {
     "name": "stdout",
     "output_type": "stream",
     "text": [
      "Mean absolute error before removing outliers : 3.417\n"
     ]
    }
   ],
   "source": [
    "#In this case, we will fit a linear regression algorithm and \n",
    "#evaluate model performance by training the model on the test dataset \n",
    "#and making a prediction on the test data \n",
    "#and evaluate the predictions using the mean absolute error (MAE).\n",
    "\n",
    "lin_model = LinearRegression()\n",
    "lin_model.fit(X_train,y_train)\n",
    "pred = lin_model.predict(X_test)\n",
    "print(\"Mean absolute error before removing outliers :\",round(mean_absolute_error(y_test,pred),3))"
   ]
  },
  {
   "cell_type": "code",
   "execution_count": 30,
   "metadata": {},
   "outputs": [],
   "source": [
    "## identifying outliers in dataset \n",
    "lof = LocalOutlierFactor()\n",
    "preds = lof.fit_predict(X_train)"
   ]
  },
  {
   "cell_type": "code",
   "execution_count": 33,
   "metadata": {},
   "outputs": [],
   "source": [
    "# selecting all the rows that are not outliers\n",
    "mask = preds != -1\n",
    "X_train,y_train = X_train[mask,:],y_train[mask]"
   ]
  },
  {
   "cell_type": "code",
   "execution_count": 34,
   "metadata": {},
   "outputs": [
    {
     "name": "stdout",
     "output_type": "stream",
     "text": [
      "Mean absolute error after removing outliers : 3.356\n"
     ]
    }
   ],
   "source": [
    "# training the model again and evaluating the results\n",
    "\n",
    "lin_model = LinearRegression()\n",
    "lin_model.fit(X_train,y_train)\n",
    "pred = lin_model.predict(X_test)\n",
    "print(\"Mean absolute error after removing outliers :\",round(mean_absolute_error(y_test,pred),3))"
   ]
  },
  {
   "cell_type": "markdown",
   "metadata": {},
   "source": [
    "#### Reference : https://machinelearningmastery.com/how-to-use-statistics-to-identify-outliers-in-data/"
   ]
  }
 ],
 "metadata": {
  "kernelspec": {
   "display_name": "Python 3",
   "language": "python",
   "name": "python3"
  },
  "language_info": {
   "codemirror_mode": {
    "name": "ipython",
    "version": 3
   },
   "file_extension": ".py",
   "mimetype": "text/x-python",
   "name": "python",
   "nbconvert_exporter": "python",
   "pygments_lexer": "ipython3",
   "version": "3.7.6"
  }
 },
 "nbformat": 4,
 "nbformat_minor": 4
}
